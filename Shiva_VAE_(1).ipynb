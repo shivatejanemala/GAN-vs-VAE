{
  "nbformat": 4,
  "nbformat_minor": 0,
  "metadata": {
    "kernelspec": {
      "display_name": "Python 3",
      "language": "python",
      "name": "python3"
    },
    "language_info": {
      "codemirror_mode": {
        "name": "ipython",
        "version": 3
      },
      "file_extension": ".py",
      "mimetype": "text/x-python",
      "name": "python",
      "nbconvert_exporter": "python",
      "pygments_lexer": "ipython3",
      "version": "3.5.4"
    },
    "colab": {
      "name": "Shiva_VAE (1).ipynb",
      "provenance": []
    },
    "accelerator": "GPU",
    "widgets": {
      "application/vnd.jupyter.widget-state+json": {
        "1ee5ceb9139e43d28f9c9305b72f2874": {
          "model_module": "@jupyter-widgets/controls",
          "model_name": "HBoxModel",
          "state": {
            "_view_name": "HBoxView",
            "_dom_classes": [],
            "_model_name": "HBoxModel",
            "_view_module": "@jupyter-widgets/controls",
            "_model_module_version": "1.5.0",
            "_view_count": null,
            "_view_module_version": "1.5.0",
            "box_style": "",
            "layout": "IPY_MODEL_a9d923eca88d46b69875405b218a5178",
            "_model_module": "@jupyter-widgets/controls",
            "children": [
              "IPY_MODEL_cbd10ec7368941998a375150f6eda686",
              "IPY_MODEL_0453350e063d458cb92c1614821595bb"
            ]
          }
        },
        "a9d923eca88d46b69875405b218a5178": {
          "model_module": "@jupyter-widgets/base",
          "model_name": "LayoutModel",
          "state": {
            "_view_name": "LayoutView",
            "grid_template_rows": null,
            "right": null,
            "justify_content": null,
            "_view_module": "@jupyter-widgets/base",
            "overflow": null,
            "_model_module_version": "1.2.0",
            "_view_count": null,
            "flex_flow": null,
            "width": null,
            "min_width": null,
            "border": null,
            "align_items": null,
            "bottom": null,
            "_model_module": "@jupyter-widgets/base",
            "top": null,
            "grid_column": null,
            "overflow_y": null,
            "overflow_x": null,
            "grid_auto_flow": null,
            "grid_area": null,
            "grid_template_columns": null,
            "flex": null,
            "_model_name": "LayoutModel",
            "justify_items": null,
            "grid_row": null,
            "max_height": null,
            "align_content": null,
            "visibility": null,
            "align_self": null,
            "height": null,
            "min_height": null,
            "padding": null,
            "grid_auto_rows": null,
            "grid_gap": null,
            "max_width": null,
            "order": null,
            "_view_module_version": "1.2.0",
            "grid_template_areas": null,
            "object_position": null,
            "object_fit": null,
            "grid_auto_columns": null,
            "margin": null,
            "display": null,
            "left": null
          }
        },
        "cbd10ec7368941998a375150f6eda686": {
          "model_module": "@jupyter-widgets/controls",
          "model_name": "FloatProgressModel",
          "state": {
            "_view_name": "ProgressView",
            "style": "IPY_MODEL_e0fb532dbe464205882c94ea405493f6",
            "_dom_classes": [],
            "description": "",
            "_model_name": "FloatProgressModel",
            "bar_style": "info",
            "max": 1,
            "_view_module": "@jupyter-widgets/controls",
            "_model_module_version": "1.5.0",
            "value": 1,
            "_view_count": null,
            "_view_module_version": "1.5.0",
            "orientation": "horizontal",
            "min": 0,
            "description_tooltip": null,
            "_model_module": "@jupyter-widgets/controls",
            "layout": "IPY_MODEL_bb6469ac96d54ab389914ac973bfe85a"
          }
        },
        "0453350e063d458cb92c1614821595bb": {
          "model_module": "@jupyter-widgets/controls",
          "model_name": "HTMLModel",
          "state": {
            "_view_name": "HTMLView",
            "style": "IPY_MODEL_6b9d63b77c2d4547b43a640dff638df2",
            "_dom_classes": [],
            "description": "",
            "_model_name": "HTMLModel",
            "placeholder": "​",
            "_view_module": "@jupyter-widgets/controls",
            "_model_module_version": "1.5.0",
            "value": " 9920512/? [00:20&lt;00:00, 1470727.34it/s]",
            "_view_count": null,
            "_view_module_version": "1.5.0",
            "description_tooltip": null,
            "_model_module": "@jupyter-widgets/controls",
            "layout": "IPY_MODEL_95b652734e214aeeafce6fc55f1002ee"
          }
        },
        "e0fb532dbe464205882c94ea405493f6": {
          "model_module": "@jupyter-widgets/controls",
          "model_name": "ProgressStyleModel",
          "state": {
            "_view_name": "StyleView",
            "_model_name": "ProgressStyleModel",
            "description_width": "initial",
            "_view_module": "@jupyter-widgets/base",
            "_model_module_version": "1.5.0",
            "_view_count": null,
            "_view_module_version": "1.2.0",
            "bar_color": null,
            "_model_module": "@jupyter-widgets/controls"
          }
        },
        "bb6469ac96d54ab389914ac973bfe85a": {
          "model_module": "@jupyter-widgets/base",
          "model_name": "LayoutModel",
          "state": {
            "_view_name": "LayoutView",
            "grid_template_rows": null,
            "right": null,
            "justify_content": null,
            "_view_module": "@jupyter-widgets/base",
            "overflow": null,
            "_model_module_version": "1.2.0",
            "_view_count": null,
            "flex_flow": null,
            "width": null,
            "min_width": null,
            "border": null,
            "align_items": null,
            "bottom": null,
            "_model_module": "@jupyter-widgets/base",
            "top": null,
            "grid_column": null,
            "overflow_y": null,
            "overflow_x": null,
            "grid_auto_flow": null,
            "grid_area": null,
            "grid_template_columns": null,
            "flex": null,
            "_model_name": "LayoutModel",
            "justify_items": null,
            "grid_row": null,
            "max_height": null,
            "align_content": null,
            "visibility": null,
            "align_self": null,
            "height": null,
            "min_height": null,
            "padding": null,
            "grid_auto_rows": null,
            "grid_gap": null,
            "max_width": null,
            "order": null,
            "_view_module_version": "1.2.0",
            "grid_template_areas": null,
            "object_position": null,
            "object_fit": null,
            "grid_auto_columns": null,
            "margin": null,
            "display": null,
            "left": null
          }
        },
        "6b9d63b77c2d4547b43a640dff638df2": {
          "model_module": "@jupyter-widgets/controls",
          "model_name": "DescriptionStyleModel",
          "state": {
            "_view_name": "StyleView",
            "_model_name": "DescriptionStyleModel",
            "description_width": "",
            "_view_module": "@jupyter-widgets/base",
            "_model_module_version": "1.5.0",
            "_view_count": null,
            "_view_module_version": "1.2.0",
            "_model_module": "@jupyter-widgets/controls"
          }
        },
        "95b652734e214aeeafce6fc55f1002ee": {
          "model_module": "@jupyter-widgets/base",
          "model_name": "LayoutModel",
          "state": {
            "_view_name": "LayoutView",
            "grid_template_rows": null,
            "right": null,
            "justify_content": null,
            "_view_module": "@jupyter-widgets/base",
            "overflow": null,
            "_model_module_version": "1.2.0",
            "_view_count": null,
            "flex_flow": null,
            "width": null,
            "min_width": null,
            "border": null,
            "align_items": null,
            "bottom": null,
            "_model_module": "@jupyter-widgets/base",
            "top": null,
            "grid_column": null,
            "overflow_y": null,
            "overflow_x": null,
            "grid_auto_flow": null,
            "grid_area": null,
            "grid_template_columns": null,
            "flex": null,
            "_model_name": "LayoutModel",
            "justify_items": null,
            "grid_row": null,
            "max_height": null,
            "align_content": null,
            "visibility": null,
            "align_self": null,
            "height": null,
            "min_height": null,
            "padding": null,
            "grid_auto_rows": null,
            "grid_gap": null,
            "max_width": null,
            "order": null,
            "_view_module_version": "1.2.0",
            "grid_template_areas": null,
            "object_position": null,
            "object_fit": null,
            "grid_auto_columns": null,
            "margin": null,
            "display": null,
            "left": null
          }
        },
        "b8591eef7ff4434f98099d4c6518ed9d": {
          "model_module": "@jupyter-widgets/controls",
          "model_name": "HBoxModel",
          "state": {
            "_view_name": "HBoxView",
            "_dom_classes": [],
            "_model_name": "HBoxModel",
            "_view_module": "@jupyter-widgets/controls",
            "_model_module_version": "1.5.0",
            "_view_count": null,
            "_view_module_version": "1.5.0",
            "box_style": "",
            "layout": "IPY_MODEL_1b3c86b25c3245208e857dfa464074fa",
            "_model_module": "@jupyter-widgets/controls",
            "children": [
              "IPY_MODEL_35d0492c29ac4a32bbc7191145afc63b",
              "IPY_MODEL_cf52a46acf904176bfa28a57883f9570"
            ]
          }
        },
        "1b3c86b25c3245208e857dfa464074fa": {
          "model_module": "@jupyter-widgets/base",
          "model_name": "LayoutModel",
          "state": {
            "_view_name": "LayoutView",
            "grid_template_rows": null,
            "right": null,
            "justify_content": null,
            "_view_module": "@jupyter-widgets/base",
            "overflow": null,
            "_model_module_version": "1.2.0",
            "_view_count": null,
            "flex_flow": null,
            "width": null,
            "min_width": null,
            "border": null,
            "align_items": null,
            "bottom": null,
            "_model_module": "@jupyter-widgets/base",
            "top": null,
            "grid_column": null,
            "overflow_y": null,
            "overflow_x": null,
            "grid_auto_flow": null,
            "grid_area": null,
            "grid_template_columns": null,
            "flex": null,
            "_model_name": "LayoutModel",
            "justify_items": null,
            "grid_row": null,
            "max_height": null,
            "align_content": null,
            "visibility": null,
            "align_self": null,
            "height": null,
            "min_height": null,
            "padding": null,
            "grid_auto_rows": null,
            "grid_gap": null,
            "max_width": null,
            "order": null,
            "_view_module_version": "1.2.0",
            "grid_template_areas": null,
            "object_position": null,
            "object_fit": null,
            "grid_auto_columns": null,
            "margin": null,
            "display": null,
            "left": null
          }
        },
        "35d0492c29ac4a32bbc7191145afc63b": {
          "model_module": "@jupyter-widgets/controls",
          "model_name": "FloatProgressModel",
          "state": {
            "_view_name": "ProgressView",
            "style": "IPY_MODEL_0a0b837602dd4c458c817ebee4b334a0",
            "_dom_classes": [],
            "description": "",
            "_model_name": "FloatProgressModel",
            "bar_style": "success",
            "max": 1,
            "_view_module": "@jupyter-widgets/controls",
            "_model_module_version": "1.5.0",
            "value": 1,
            "_view_count": null,
            "_view_module_version": "1.5.0",
            "orientation": "horizontal",
            "min": 0,
            "description_tooltip": null,
            "_model_module": "@jupyter-widgets/controls",
            "layout": "IPY_MODEL_c8a6a0bae97d42a6bf9606241f884c8e"
          }
        },
        "cf52a46acf904176bfa28a57883f9570": {
          "model_module": "@jupyter-widgets/controls",
          "model_name": "HTMLModel",
          "state": {
            "_view_name": "HTMLView",
            "style": "IPY_MODEL_1ea3d77fff514bf5a5e69bd826bc0840",
            "_dom_classes": [],
            "description": "",
            "_model_name": "HTMLModel",
            "placeholder": "​",
            "_view_module": "@jupyter-widgets/controls",
            "_model_module_version": "1.5.0",
            "value": " 32768/? [00:00&lt;00:00, 121644.62it/s]",
            "_view_count": null,
            "_view_module_version": "1.5.0",
            "description_tooltip": null,
            "_model_module": "@jupyter-widgets/controls",
            "layout": "IPY_MODEL_01ccfbb87e784a4e827ae8598e0a7024"
          }
        },
        "0a0b837602dd4c458c817ebee4b334a0": {
          "model_module": "@jupyter-widgets/controls",
          "model_name": "ProgressStyleModel",
          "state": {
            "_view_name": "StyleView",
            "_model_name": "ProgressStyleModel",
            "description_width": "initial",
            "_view_module": "@jupyter-widgets/base",
            "_model_module_version": "1.5.0",
            "_view_count": null,
            "_view_module_version": "1.2.0",
            "bar_color": null,
            "_model_module": "@jupyter-widgets/controls"
          }
        },
        "c8a6a0bae97d42a6bf9606241f884c8e": {
          "model_module": "@jupyter-widgets/base",
          "model_name": "LayoutModel",
          "state": {
            "_view_name": "LayoutView",
            "grid_template_rows": null,
            "right": null,
            "justify_content": null,
            "_view_module": "@jupyter-widgets/base",
            "overflow": null,
            "_model_module_version": "1.2.0",
            "_view_count": null,
            "flex_flow": null,
            "width": null,
            "min_width": null,
            "border": null,
            "align_items": null,
            "bottom": null,
            "_model_module": "@jupyter-widgets/base",
            "top": null,
            "grid_column": null,
            "overflow_y": null,
            "overflow_x": null,
            "grid_auto_flow": null,
            "grid_area": null,
            "grid_template_columns": null,
            "flex": null,
            "_model_name": "LayoutModel",
            "justify_items": null,
            "grid_row": null,
            "max_height": null,
            "align_content": null,
            "visibility": null,
            "align_self": null,
            "height": null,
            "min_height": null,
            "padding": null,
            "grid_auto_rows": null,
            "grid_gap": null,
            "max_width": null,
            "order": null,
            "_view_module_version": "1.2.0",
            "grid_template_areas": null,
            "object_position": null,
            "object_fit": null,
            "grid_auto_columns": null,
            "margin": null,
            "display": null,
            "left": null
          }
        },
        "1ea3d77fff514bf5a5e69bd826bc0840": {
          "model_module": "@jupyter-widgets/controls",
          "model_name": "DescriptionStyleModel",
          "state": {
            "_view_name": "StyleView",
            "_model_name": "DescriptionStyleModel",
            "description_width": "",
            "_view_module": "@jupyter-widgets/base",
            "_model_module_version": "1.5.0",
            "_view_count": null,
            "_view_module_version": "1.2.0",
            "_model_module": "@jupyter-widgets/controls"
          }
        },
        "01ccfbb87e784a4e827ae8598e0a7024": {
          "model_module": "@jupyter-widgets/base",
          "model_name": "LayoutModel",
          "state": {
            "_view_name": "LayoutView",
            "grid_template_rows": null,
            "right": null,
            "justify_content": null,
            "_view_module": "@jupyter-widgets/base",
            "overflow": null,
            "_model_module_version": "1.2.0",
            "_view_count": null,
            "flex_flow": null,
            "width": null,
            "min_width": null,
            "border": null,
            "align_items": null,
            "bottom": null,
            "_model_module": "@jupyter-widgets/base",
            "top": null,
            "grid_column": null,
            "overflow_y": null,
            "overflow_x": null,
            "grid_auto_flow": null,
            "grid_area": null,
            "grid_template_columns": null,
            "flex": null,
            "_model_name": "LayoutModel",
            "justify_items": null,
            "grid_row": null,
            "max_height": null,
            "align_content": null,
            "visibility": null,
            "align_self": null,
            "height": null,
            "min_height": null,
            "padding": null,
            "grid_auto_rows": null,
            "grid_gap": null,
            "max_width": null,
            "order": null,
            "_view_module_version": "1.2.0",
            "grid_template_areas": null,
            "object_position": null,
            "object_fit": null,
            "grid_auto_columns": null,
            "margin": null,
            "display": null,
            "left": null
          }
        },
        "77b372d8629245d7968435ae899f8a35": {
          "model_module": "@jupyter-widgets/controls",
          "model_name": "HBoxModel",
          "state": {
            "_view_name": "HBoxView",
            "_dom_classes": [],
            "_model_name": "HBoxModel",
            "_view_module": "@jupyter-widgets/controls",
            "_model_module_version": "1.5.0",
            "_view_count": null,
            "_view_module_version": "1.5.0",
            "box_style": "",
            "layout": "IPY_MODEL_5bba5eb8f36846faa148975a3a48de79",
            "_model_module": "@jupyter-widgets/controls",
            "children": [
              "IPY_MODEL_733c9584b88d4950a771224a63ef1527",
              "IPY_MODEL_7df3e5b9805b47bd966bdc06e724fc5e"
            ]
          }
        },
        "5bba5eb8f36846faa148975a3a48de79": {
          "model_module": "@jupyter-widgets/base",
          "model_name": "LayoutModel",
          "state": {
            "_view_name": "LayoutView",
            "grid_template_rows": null,
            "right": null,
            "justify_content": null,
            "_view_module": "@jupyter-widgets/base",
            "overflow": null,
            "_model_module_version": "1.2.0",
            "_view_count": null,
            "flex_flow": null,
            "width": null,
            "min_width": null,
            "border": null,
            "align_items": null,
            "bottom": null,
            "_model_module": "@jupyter-widgets/base",
            "top": null,
            "grid_column": null,
            "overflow_y": null,
            "overflow_x": null,
            "grid_auto_flow": null,
            "grid_area": null,
            "grid_template_columns": null,
            "flex": null,
            "_model_name": "LayoutModel",
            "justify_items": null,
            "grid_row": null,
            "max_height": null,
            "align_content": null,
            "visibility": null,
            "align_self": null,
            "height": null,
            "min_height": null,
            "padding": null,
            "grid_auto_rows": null,
            "grid_gap": null,
            "max_width": null,
            "order": null,
            "_view_module_version": "1.2.0",
            "grid_template_areas": null,
            "object_position": null,
            "object_fit": null,
            "grid_auto_columns": null,
            "margin": null,
            "display": null,
            "left": null
          }
        },
        "733c9584b88d4950a771224a63ef1527": {
          "model_module": "@jupyter-widgets/controls",
          "model_name": "FloatProgressModel",
          "state": {
            "_view_name": "ProgressView",
            "style": "IPY_MODEL_9f4ff1bfefd54ebea058e9a4ef52ddc4",
            "_dom_classes": [],
            "description": "",
            "_model_name": "FloatProgressModel",
            "bar_style": "info",
            "max": 1,
            "_view_module": "@jupyter-widgets/controls",
            "_model_module_version": "1.5.0",
            "value": 1,
            "_view_count": null,
            "_view_module_version": "1.5.0",
            "orientation": "horizontal",
            "min": 0,
            "description_tooltip": null,
            "_model_module": "@jupyter-widgets/controls",
            "layout": "IPY_MODEL_67003d464fd24d028087f2e61a82ea88"
          }
        },
        "7df3e5b9805b47bd966bdc06e724fc5e": {
          "model_module": "@jupyter-widgets/controls",
          "model_name": "HTMLModel",
          "state": {
            "_view_name": "HTMLView",
            "style": "IPY_MODEL_94c9ec1df87540168bb87d9934cf674e",
            "_dom_classes": [],
            "description": "",
            "_model_name": "HTMLModel",
            "placeholder": "​",
            "_view_module": "@jupyter-widgets/controls",
            "_model_module_version": "1.5.0",
            "value": " 1654784/? [00:18&lt;00:00, 523921.69it/s]",
            "_view_count": null,
            "_view_module_version": "1.5.0",
            "description_tooltip": null,
            "_model_module": "@jupyter-widgets/controls",
            "layout": "IPY_MODEL_a448d615fe634d83be70bae1e5b21519"
          }
        },
        "9f4ff1bfefd54ebea058e9a4ef52ddc4": {
          "model_module": "@jupyter-widgets/controls",
          "model_name": "ProgressStyleModel",
          "state": {
            "_view_name": "StyleView",
            "_model_name": "ProgressStyleModel",
            "description_width": "initial",
            "_view_module": "@jupyter-widgets/base",
            "_model_module_version": "1.5.0",
            "_view_count": null,
            "_view_module_version": "1.2.0",
            "bar_color": null,
            "_model_module": "@jupyter-widgets/controls"
          }
        },
        "67003d464fd24d028087f2e61a82ea88": {
          "model_module": "@jupyter-widgets/base",
          "model_name": "LayoutModel",
          "state": {
            "_view_name": "LayoutView",
            "grid_template_rows": null,
            "right": null,
            "justify_content": null,
            "_view_module": "@jupyter-widgets/base",
            "overflow": null,
            "_model_module_version": "1.2.0",
            "_view_count": null,
            "flex_flow": null,
            "width": null,
            "min_width": null,
            "border": null,
            "align_items": null,
            "bottom": null,
            "_model_module": "@jupyter-widgets/base",
            "top": null,
            "grid_column": null,
            "overflow_y": null,
            "overflow_x": null,
            "grid_auto_flow": null,
            "grid_area": null,
            "grid_template_columns": null,
            "flex": null,
            "_model_name": "LayoutModel",
            "justify_items": null,
            "grid_row": null,
            "max_height": null,
            "align_content": null,
            "visibility": null,
            "align_self": null,
            "height": null,
            "min_height": null,
            "padding": null,
            "grid_auto_rows": null,
            "grid_gap": null,
            "max_width": null,
            "order": null,
            "_view_module_version": "1.2.0",
            "grid_template_areas": null,
            "object_position": null,
            "object_fit": null,
            "grid_auto_columns": null,
            "margin": null,
            "display": null,
            "left": null
          }
        },
        "94c9ec1df87540168bb87d9934cf674e": {
          "model_module": "@jupyter-widgets/controls",
          "model_name": "DescriptionStyleModel",
          "state": {
            "_view_name": "StyleView",
            "_model_name": "DescriptionStyleModel",
            "description_width": "",
            "_view_module": "@jupyter-widgets/base",
            "_model_module_version": "1.5.0",
            "_view_count": null,
            "_view_module_version": "1.2.0",
            "_model_module": "@jupyter-widgets/controls"
          }
        },
        "a448d615fe634d83be70bae1e5b21519": {
          "model_module": "@jupyter-widgets/base",
          "model_name": "LayoutModel",
          "state": {
            "_view_name": "LayoutView",
            "grid_template_rows": null,
            "right": null,
            "justify_content": null,
            "_view_module": "@jupyter-widgets/base",
            "overflow": null,
            "_model_module_version": "1.2.0",
            "_view_count": null,
            "flex_flow": null,
            "width": null,
            "min_width": null,
            "border": null,
            "align_items": null,
            "bottom": null,
            "_model_module": "@jupyter-widgets/base",
            "top": null,
            "grid_column": null,
            "overflow_y": null,
            "overflow_x": null,
            "grid_auto_flow": null,
            "grid_area": null,
            "grid_template_columns": null,
            "flex": null,
            "_model_name": "LayoutModel",
            "justify_items": null,
            "grid_row": null,
            "max_height": null,
            "align_content": null,
            "visibility": null,
            "align_self": null,
            "height": null,
            "min_height": null,
            "padding": null,
            "grid_auto_rows": null,
            "grid_gap": null,
            "max_width": null,
            "order": null,
            "_view_module_version": "1.2.0",
            "grid_template_areas": null,
            "object_position": null,
            "object_fit": null,
            "grid_auto_columns": null,
            "margin": null,
            "display": null,
            "left": null
          }
        },
        "70cb53d605fb49b29fe7b3c44da6cc12": {
          "model_module": "@jupyter-widgets/controls",
          "model_name": "HBoxModel",
          "state": {
            "_view_name": "HBoxView",
            "_dom_classes": [],
            "_model_name": "HBoxModel",
            "_view_module": "@jupyter-widgets/controls",
            "_model_module_version": "1.5.0",
            "_view_count": null,
            "_view_module_version": "1.5.0",
            "box_style": "",
            "layout": "IPY_MODEL_5af706adb4be42a2b844bd2953d09c07",
            "_model_module": "@jupyter-widgets/controls",
            "children": [
              "IPY_MODEL_cfe20131a0ba4b2c93f1b51d3a6ccd60",
              "IPY_MODEL_d7601a84058440d5a61c2e7d7868153d"
            ]
          }
        },
        "5af706adb4be42a2b844bd2953d09c07": {
          "model_module": "@jupyter-widgets/base",
          "model_name": "LayoutModel",
          "state": {
            "_view_name": "LayoutView",
            "grid_template_rows": null,
            "right": null,
            "justify_content": null,
            "_view_module": "@jupyter-widgets/base",
            "overflow": null,
            "_model_module_version": "1.2.0",
            "_view_count": null,
            "flex_flow": null,
            "width": null,
            "min_width": null,
            "border": null,
            "align_items": null,
            "bottom": null,
            "_model_module": "@jupyter-widgets/base",
            "top": null,
            "grid_column": null,
            "overflow_y": null,
            "overflow_x": null,
            "grid_auto_flow": null,
            "grid_area": null,
            "grid_template_columns": null,
            "flex": null,
            "_model_name": "LayoutModel",
            "justify_items": null,
            "grid_row": null,
            "max_height": null,
            "align_content": null,
            "visibility": null,
            "align_self": null,
            "height": null,
            "min_height": null,
            "padding": null,
            "grid_auto_rows": null,
            "grid_gap": null,
            "max_width": null,
            "order": null,
            "_view_module_version": "1.2.0",
            "grid_template_areas": null,
            "object_position": null,
            "object_fit": null,
            "grid_auto_columns": null,
            "margin": null,
            "display": null,
            "left": null
          }
        },
        "cfe20131a0ba4b2c93f1b51d3a6ccd60": {
          "model_module": "@jupyter-widgets/controls",
          "model_name": "FloatProgressModel",
          "state": {
            "_view_name": "ProgressView",
            "style": "IPY_MODEL_88dad44b452d44548d1f1b200440fcc3",
            "_dom_classes": [],
            "description": "",
            "_model_name": "FloatProgressModel",
            "bar_style": "success",
            "max": 1,
            "_view_module": "@jupyter-widgets/controls",
            "_model_module_version": "1.5.0",
            "value": 1,
            "_view_count": null,
            "_view_module_version": "1.5.0",
            "orientation": "horizontal",
            "min": 0,
            "description_tooltip": null,
            "_model_module": "@jupyter-widgets/controls",
            "layout": "IPY_MODEL_a36f71ca5dad4952962951d3f3000f6f"
          }
        },
        "d7601a84058440d5a61c2e7d7868153d": {
          "model_module": "@jupyter-widgets/controls",
          "model_name": "HTMLModel",
          "state": {
            "_view_name": "HTMLView",
            "style": "IPY_MODEL_83790dc14de64427816d1d504f670e24",
            "_dom_classes": [],
            "description": "",
            "_model_name": "HTMLModel",
            "placeholder": "​",
            "_view_module": "@jupyter-widgets/controls",
            "_model_module_version": "1.5.0",
            "value": " 8192/? [00:05&lt;00:00, 1366.46it/s]",
            "_view_count": null,
            "_view_module_version": "1.5.0",
            "description_tooltip": null,
            "_model_module": "@jupyter-widgets/controls",
            "layout": "IPY_MODEL_523e9befc49c479cb16c47096e0d00cf"
          }
        },
        "88dad44b452d44548d1f1b200440fcc3": {
          "model_module": "@jupyter-widgets/controls",
          "model_name": "ProgressStyleModel",
          "state": {
            "_view_name": "StyleView",
            "_model_name": "ProgressStyleModel",
            "description_width": "initial",
            "_view_module": "@jupyter-widgets/base",
            "_model_module_version": "1.5.0",
            "_view_count": null,
            "_view_module_version": "1.2.0",
            "bar_color": null,
            "_model_module": "@jupyter-widgets/controls"
          }
        },
        "a36f71ca5dad4952962951d3f3000f6f": {
          "model_module": "@jupyter-widgets/base",
          "model_name": "LayoutModel",
          "state": {
            "_view_name": "LayoutView",
            "grid_template_rows": null,
            "right": null,
            "justify_content": null,
            "_view_module": "@jupyter-widgets/base",
            "overflow": null,
            "_model_module_version": "1.2.0",
            "_view_count": null,
            "flex_flow": null,
            "width": null,
            "min_width": null,
            "border": null,
            "align_items": null,
            "bottom": null,
            "_model_module": "@jupyter-widgets/base",
            "top": null,
            "grid_column": null,
            "overflow_y": null,
            "overflow_x": null,
            "grid_auto_flow": null,
            "grid_area": null,
            "grid_template_columns": null,
            "flex": null,
            "_model_name": "LayoutModel",
            "justify_items": null,
            "grid_row": null,
            "max_height": null,
            "align_content": null,
            "visibility": null,
            "align_self": null,
            "height": null,
            "min_height": null,
            "padding": null,
            "grid_auto_rows": null,
            "grid_gap": null,
            "max_width": null,
            "order": null,
            "_view_module_version": "1.2.0",
            "grid_template_areas": null,
            "object_position": null,
            "object_fit": null,
            "grid_auto_columns": null,
            "margin": null,
            "display": null,
            "left": null
          }
        },
        "83790dc14de64427816d1d504f670e24": {
          "model_module": "@jupyter-widgets/controls",
          "model_name": "DescriptionStyleModel",
          "state": {
            "_view_name": "StyleView",
            "_model_name": "DescriptionStyleModel",
            "description_width": "",
            "_view_module": "@jupyter-widgets/base",
            "_model_module_version": "1.5.0",
            "_view_count": null,
            "_view_module_version": "1.2.0",
            "_model_module": "@jupyter-widgets/controls"
          }
        },
        "523e9befc49c479cb16c47096e0d00cf": {
          "model_module": "@jupyter-widgets/base",
          "model_name": "LayoutModel",
          "state": {
            "_view_name": "LayoutView",
            "grid_template_rows": null,
            "right": null,
            "justify_content": null,
            "_view_module": "@jupyter-widgets/base",
            "overflow": null,
            "_model_module_version": "1.2.0",
            "_view_count": null,
            "flex_flow": null,
            "width": null,
            "min_width": null,
            "border": null,
            "align_items": null,
            "bottom": null,
            "_model_module": "@jupyter-widgets/base",
            "top": null,
            "grid_column": null,
            "overflow_y": null,
            "overflow_x": null,
            "grid_auto_flow": null,
            "grid_area": null,
            "grid_template_columns": null,
            "flex": null,
            "_model_name": "LayoutModel",
            "justify_items": null,
            "grid_row": null,
            "max_height": null,
            "align_content": null,
            "visibility": null,
            "align_self": null,
            "height": null,
            "min_height": null,
            "padding": null,
            "grid_auto_rows": null,
            "grid_gap": null,
            "max_width": null,
            "order": null,
            "_view_module_version": "1.2.0",
            "grid_template_areas": null,
            "object_position": null,
            "object_fit": null,
            "grid_auto_columns": null,
            "margin": null,
            "display": null,
            "left": null
          }
        }
      }
    }
  },
  "cells": [
    {
      "cell_type": "code",
      "metadata": {
        "id": "evp7htIbC8kb",
        "colab": {
          "base_uri": "https://localhost:8080/",
          "height": 376,
          "referenced_widgets": [
            "1ee5ceb9139e43d28f9c9305b72f2874",
            "a9d923eca88d46b69875405b218a5178",
            "cbd10ec7368941998a375150f6eda686",
            "0453350e063d458cb92c1614821595bb",
            "e0fb532dbe464205882c94ea405493f6",
            "bb6469ac96d54ab389914ac973bfe85a",
            "6b9d63b77c2d4547b43a640dff638df2",
            "95b652734e214aeeafce6fc55f1002ee",
            "b8591eef7ff4434f98099d4c6518ed9d",
            "1b3c86b25c3245208e857dfa464074fa",
            "35d0492c29ac4a32bbc7191145afc63b",
            "cf52a46acf904176bfa28a57883f9570",
            "0a0b837602dd4c458c817ebee4b334a0",
            "c8a6a0bae97d42a6bf9606241f884c8e",
            "1ea3d77fff514bf5a5e69bd826bc0840",
            "01ccfbb87e784a4e827ae8598e0a7024",
            "77b372d8629245d7968435ae899f8a35",
            "5bba5eb8f36846faa148975a3a48de79",
            "733c9584b88d4950a771224a63ef1527",
            "7df3e5b9805b47bd966bdc06e724fc5e",
            "9f4ff1bfefd54ebea058e9a4ef52ddc4",
            "67003d464fd24d028087f2e61a82ea88",
            "94c9ec1df87540168bb87d9934cf674e",
            "a448d615fe634d83be70bae1e5b21519",
            "70cb53d605fb49b29fe7b3c44da6cc12",
            "5af706adb4be42a2b844bd2953d09c07",
            "cfe20131a0ba4b2c93f1b51d3a6ccd60",
            "d7601a84058440d5a61c2e7d7868153d",
            "88dad44b452d44548d1f1b200440fcc3",
            "a36f71ca5dad4952962951d3f3000f6f",
            "83790dc14de64427816d1d504f670e24",
            "523e9befc49c479cb16c47096e0d00cf"
          ]
        },
        "outputId": "bec5c607-095c-4a42-c22c-0c552df21e6f"
      },
      "source": [
        "# prerequisites\n",
        "import torch\n",
        "import torch.nn as nn\n",
        "import torch.nn.functional as F\n",
        "import torch.optim as optim\n",
        "from torchvision import datasets, transforms\n",
        "from torch.autograd import Variable\n",
        "from torchvision.utils import save_image\n",
        "\n",
        "bs = 100\n",
        "# MNIST Dataset\n",
        "train_dataset = datasets.MNIST(root='./mnist_data/', train=True, transform=transforms.ToTensor(), download=True)\n",
        "test_dataset = datasets.MNIST(root='./mnist_data/', train=False, transform=transforms.ToTensor(), download=False)\n",
        "\n",
        "# Data Loader (Input Pipeline)\n",
        "train_loader = torch.utils.data.DataLoader(dataset=train_dataset, batch_size=bs, shuffle=True)\n",
        "test_loader = torch.utils.data.DataLoader(dataset=test_dataset, batch_size=bs, shuffle=False)"
      ],
      "execution_count": 4,
      "outputs": [
        {
          "output_type": "stream",
          "text": [
            "Downloading http://yann.lecun.com/exdb/mnist/train-images-idx3-ubyte.gz to ./mnist_data/MNIST/raw/train-images-idx3-ubyte.gz\n"
          ],
          "name": "stdout"
        },
        {
          "output_type": "display_data",
          "data": {
            "application/vnd.jupyter.widget-view+json": {
              "model_id": "1ee5ceb9139e43d28f9c9305b72f2874",
              "version_minor": 0,
              "version_major": 2
            },
            "text/plain": [
              "HBox(children=(FloatProgress(value=1.0, bar_style='info', max=1.0), HTML(value='')))"
            ]
          },
          "metadata": {
            "tags": []
          }
        },
        {
          "output_type": "stream",
          "text": [
            "Extracting ./mnist_data/MNIST/raw/train-images-idx3-ubyte.gz to ./mnist_data/MNIST/raw\n",
            "Downloading http://yann.lecun.com/exdb/mnist/train-labels-idx1-ubyte.gz to ./mnist_data/MNIST/raw/train-labels-idx1-ubyte.gz\n"
          ],
          "name": "stdout"
        },
        {
          "output_type": "display_data",
          "data": {
            "application/vnd.jupyter.widget-view+json": {
              "model_id": "b8591eef7ff4434f98099d4c6518ed9d",
              "version_minor": 0,
              "version_major": 2
            },
            "text/plain": [
              "HBox(children=(FloatProgress(value=1.0, bar_style='info', max=1.0), HTML(value='')))"
            ]
          },
          "metadata": {
            "tags": []
          }
        },
        {
          "output_type": "stream",
          "text": [
            "Extracting ./mnist_data/MNIST/raw/train-labels-idx1-ubyte.gz to ./mnist_data/MNIST/raw\n",
            "Downloading http://yann.lecun.com/exdb/mnist/t10k-images-idx3-ubyte.gz to ./mnist_data/MNIST/raw/t10k-images-idx3-ubyte.gz\n",
            "\n"
          ],
          "name": "stdout"
        },
        {
          "output_type": "display_data",
          "data": {
            "application/vnd.jupyter.widget-view+json": {
              "model_id": "77b372d8629245d7968435ae899f8a35",
              "version_minor": 0,
              "version_major": 2
            },
            "text/plain": [
              "HBox(children=(FloatProgress(value=1.0, bar_style='info', max=1.0), HTML(value='')))"
            ]
          },
          "metadata": {
            "tags": []
          }
        },
        {
          "output_type": "stream",
          "text": [
            "Extracting ./mnist_data/MNIST/raw/t10k-images-idx3-ubyte.gz to ./mnist_data/MNIST/raw\n",
            "Downloading http://yann.lecun.com/exdb/mnist/t10k-labels-idx1-ubyte.gz to ./mnist_data/MNIST/raw/t10k-labels-idx1-ubyte.gz\n"
          ],
          "name": "stdout"
        },
        {
          "output_type": "display_data",
          "data": {
            "application/vnd.jupyter.widget-view+json": {
              "model_id": "70cb53d605fb49b29fe7b3c44da6cc12",
              "version_minor": 0,
              "version_major": 2
            },
            "text/plain": [
              "HBox(children=(FloatProgress(value=1.0, bar_style='info', max=1.0), HTML(value='')))"
            ]
          },
          "metadata": {
            "tags": []
          }
        },
        {
          "output_type": "stream",
          "text": [
            "Extracting ./mnist_data/MNIST/raw/t10k-labels-idx1-ubyte.gz to ./mnist_data/MNIST/raw\n",
            "Processing...\n",
            "Done!\n"
          ],
          "name": "stdout"
        },
        {
          "output_type": "stream",
          "text": [
            "/usr/local/lib/python3.6/dist-packages/torchvision/datasets/mnist.py:480: UserWarning: The given NumPy array is not writeable, and PyTorch does not support non-writeable tensors. This means you can write to the underlying (supposedly non-writeable) NumPy array using the tensor. You may want to copy the array to protect its data or make it writeable before converting it to a tensor. This type of warning will be suppressed for the rest of this program. (Triggered internally at  /pytorch/torch/csrc/utils/tensor_numpy.cpp:141.)\n",
            "  return torch.from_numpy(parsed.astype(m[2], copy=False)).view(*s)\n"
          ],
          "name": "stderr"
        }
      ]
    },
    {
      "cell_type": "code",
      "metadata": {
        "id": "zCHWAoyMC8kf",
        "colab": {
          "base_uri": "https://localhost:8080/"
        },
        "outputId": "6d181d57-e1a3-428f-a4a9-10456b4f62f5"
      },
      "source": [
        "class VAE(nn.Module):\n",
        "    def __init__(self, x_dim, h_dim1, h_dim2, z_dim):\n",
        "        super(VAE, self).__init__()\n",
        "        \n",
        "        # encoder part\n",
        "        self.encoderModel = nn.Sequential (\n",
        "          nn.Linear(x_dim, h_dim1),\n",
        "          nn.ReLU(),\n",
        "          nn.Linear(h_dim1, h_dim2),\n",
        "          nn.ReLU()\n",
        "        )\n",
        "        \n",
        "        self.mu = nn.Linear(h_dim2, z_dim)\n",
        "        self.log_var = nn.Linear(h_dim2, z_dim)\n",
        "\n",
        "        # decoder part\n",
        "        self.decoderModel = nn.Sequential (\n",
        "          nn.Linear(z_dim, h_dim2),\n",
        "          nn.ReLU(),\n",
        "          nn.Linear(h_dim2, h_dim1),\n",
        "          nn.ReLU(),\n",
        "          nn.Linear(h_dim1, x_dim),\n",
        "          nn.Sigmoid()\n",
        "        )\n",
        "        \n",
        "    def encoder(self, x):\n",
        "        h = self.encoderModel(x)\n",
        "        return self.mu(h), self.log_var(h) # mu, log_var\n",
        "    \n",
        "    def sampling(self, mu, log_var):\n",
        "        std = torch.exp(0.5*log_var)\n",
        "        eps = torch.randn_like(std)\n",
        "        return eps.mul(std).add_(mu) # return z sample\n",
        "        \n",
        "    def decoder(self, z):\n",
        "        return self.decoderModel(z)\n",
        "    \n",
        "    def forward(self, x):\n",
        "        mu, log_var = self.encoder(x.view(-1, 784))\n",
        "        z = self.sampling(mu, log_var)\n",
        "        return self.decoder(z), mu, log_var\n",
        "\n",
        "# build model\n",
        "vae = VAE(x_dim=784, h_dim1= 512, h_dim2=256, z_dim=2)\n",
        "if torch.cuda.is_available():\n",
        "    vae.cuda()"
      ],
      "execution_count": 5,
      "outputs": [
        {
          "output_type": "stream",
          "text": [
            "\n"
          ],
          "name": "stdout"
        }
      ]
    },
    {
      "cell_type": "code",
      "metadata": {
        "id": "SKdP3--EC8kh",
        "colab": {
          "base_uri": "https://localhost:8080/"
        },
        "outputId": "0d4a91d6-a9fb-4dbe-d8bc-cf7b49b5978f"
      },
      "source": [
        "vae"
      ],
      "execution_count": 6,
      "outputs": [
        {
          "output_type": "execute_result",
          "data": {
            "text/plain": [
              "VAE(\n",
              "  (encoderModel): Sequential(\n",
              "    (0): Linear(in_features=784, out_features=512, bias=True)\n",
              "    (1): ReLU()\n",
              "    (2): Linear(in_features=512, out_features=256, bias=True)\n",
              "    (3): ReLU()\n",
              "  )\n",
              "  (mu): Linear(in_features=256, out_features=2, bias=True)\n",
              "  (log_var): Linear(in_features=256, out_features=2, bias=True)\n",
              "  (decoderModel): Sequential(\n",
              "    (0): Linear(in_features=2, out_features=256, bias=True)\n",
              "    (1): ReLU()\n",
              "    (2): Linear(in_features=256, out_features=512, bias=True)\n",
              "    (3): ReLU()\n",
              "    (4): Linear(in_features=512, out_features=784, bias=True)\n",
              "    (5): Sigmoid()\n",
              "  )\n",
              ")"
            ]
          },
          "metadata": {
            "tags": []
          },
          "execution_count": 6
        }
      ]
    },
    {
      "cell_type": "code",
      "metadata": {
        "id": "Bhsips52C8kl"
      },
      "source": [
        "optimizer = optim.Adam(vae.parameters())\n",
        "# return reconstruction error + KL divergence losses\n",
        "def loss_function(recon_x, x, mu, log_var):\n",
        "    BCE = F.binary_cross_entropy(recon_x, x.view(-1, 784), reduction='sum')\n",
        "    KLD = -0.5 * torch.sum(1 + log_var - mu.pow(2) - log_var.exp())\n",
        "    return BCE + KLD"
      ],
      "execution_count": 7,
      "outputs": []
    },
    {
      "cell_type": "code",
      "metadata": {
        "id": "zOEByyNVC8kn"
      },
      "source": [
        "def train(epoch):\n",
        "    vae.train()\n",
        "    train_loss = 0\n",
        "    for batch_idx, (data, _) in enumerate(train_loader):\n",
        "        data = data.cuda()\n",
        "        optimizer.zero_grad()\n",
        "        \n",
        "        recon_batch, mu, log_var = vae(data)\n",
        "        loss = loss_function(recon_batch, data, mu, log_var)\n",
        "        \n",
        "        loss.backward()\n",
        "        train_loss += loss.item()\n",
        "        optimizer.step()\n",
        "        \n",
        "        if batch_idx % 100 == 0:\n",
        "            print('Train Epoch: {} [{}/{} ({:.0f}%)]\\tLoss: {:.6f}'.format(\n",
        "                epoch, batch_idx * len(data), len(train_loader.dataset),\n",
        "                100. * batch_idx / len(train_loader), loss.item() / len(data)))\n",
        "    print('====> Epoch: {} Average loss: {:.4f}'.format(epoch, train_loss / len(train_loader.dataset)))"
      ],
      "execution_count": 8,
      "outputs": []
    },
    {
      "cell_type": "code",
      "metadata": {
        "id": "79WN5dJhC8ks"
      },
      "source": [
        "def test():\n",
        "    vae.eval()\n",
        "    test_loss= 0\n",
        "    with torch.no_grad():\n",
        "        for data, _ in test_loader:\n",
        "            data = data.cuda()\n",
        "            recon, mu, log_var = vae(data)\n",
        "            \n",
        "            # sum up batch loss\n",
        "            test_loss += loss_function(recon, data, mu, log_var).item()\n",
        "        \n",
        "    test_loss /= len(test_loader.dataset)\n",
        "    print('====> Test set loss: {:.4f}'.format(test_loss))"
      ],
      "execution_count": 9,
      "outputs": []
    },
    {
      "cell_type": "code",
      "metadata": {
        "scrolled": true,
        "id": "jlTlhLxwC8kw",
        "colab": {
          "base_uri": "https://localhost:8080/"
        },
        "outputId": "2372ed62-6ccf-4c5b-a279-ad46542de8d7"
      },
      "source": [
        "for epoch in range(1, 16):\n",
        "    train(epoch)\n",
        "    test()"
      ],
      "execution_count": 12,
      "outputs": [
        {
          "output_type": "stream",
          "text": [
            "Train Epoch: 1 [0/60000 (0%)]\tLoss: 143.583818\n",
            "Train Epoch: 1 [10000/60000 (17%)]\tLoss: 146.153105\n",
            "Train Epoch: 1 [20000/60000 (33%)]\tLoss: 145.053398\n",
            "Train Epoch: 1 [30000/60000 (50%)]\tLoss: 134.691367\n",
            "Train Epoch: 1 [40000/60000 (67%)]\tLoss: 146.844473\n",
            "Train Epoch: 1 [50000/60000 (83%)]\tLoss: 136.963691\n",
            "====> Epoch: 1 Average loss: 143.8364\n",
            "====> Test set loss: 144.1977\n",
            "Train Epoch: 2 [0/60000 (0%)]\tLoss: 136.874883\n",
            "Train Epoch: 2 [10000/60000 (17%)]\tLoss: 146.336436\n",
            "Train Epoch: 2 [20000/60000 (33%)]\tLoss: 146.524434\n",
            "Train Epoch: 2 [30000/60000 (50%)]\tLoss: 142.214375\n",
            "Train Epoch: 2 [40000/60000 (67%)]\tLoss: 138.252002\n",
            "Train Epoch: 2 [50000/60000 (83%)]\tLoss: 135.951943\n",
            "====> Epoch: 2 Average loss: 143.1564\n",
            "====> Test set loss: 143.7767\n",
            "Train Epoch: 3 [0/60000 (0%)]\tLoss: 140.197471\n",
            "Train Epoch: 3 [10000/60000 (17%)]\tLoss: 141.558799\n",
            "Train Epoch: 3 [20000/60000 (33%)]\tLoss: 145.915029\n",
            "Train Epoch: 3 [30000/60000 (50%)]\tLoss: 142.587734\n",
            "Train Epoch: 3 [40000/60000 (67%)]\tLoss: 152.027305\n",
            "Train Epoch: 3 [50000/60000 (83%)]\tLoss: 145.217510\n",
            "====> Epoch: 3 Average loss: 142.6845\n",
            "====> Test set loss: 143.3722\n",
            "Train Epoch: 4 [0/60000 (0%)]\tLoss: 135.157324\n",
            "Train Epoch: 4 [10000/60000 (17%)]\tLoss: 141.710898\n",
            "Train Epoch: 4 [20000/60000 (33%)]\tLoss: 141.808057\n",
            "Train Epoch: 4 [30000/60000 (50%)]\tLoss: 140.341924\n",
            "Train Epoch: 4 [40000/60000 (67%)]\tLoss: 139.316514\n",
            "Train Epoch: 4 [50000/60000 (83%)]\tLoss: 144.269434\n",
            "====> Epoch: 4 Average loss: 142.0944\n",
            "====> Test set loss: 142.6826\n",
            "Train Epoch: 5 [0/60000 (0%)]\tLoss: 143.831172\n",
            "Train Epoch: 5 [10000/60000 (17%)]\tLoss: 135.674834\n",
            "Train Epoch: 5 [20000/60000 (33%)]\tLoss: 145.254844\n",
            "Train Epoch: 5 [30000/60000 (50%)]\tLoss: 135.761582\n",
            "Train Epoch: 5 [40000/60000 (67%)]\tLoss: 145.321455\n",
            "Train Epoch: 5 [50000/60000 (83%)]\tLoss: 140.241133\n",
            "====> Epoch: 5 Average loss: 141.7001\n",
            "====> Test set loss: 142.2964\n",
            "Train Epoch: 6 [0/60000 (0%)]\tLoss: 143.933779\n",
            "Train Epoch: 6 [10000/60000 (17%)]\tLoss: 151.024687\n",
            "Train Epoch: 6 [20000/60000 (33%)]\tLoss: 134.330127\n",
            "Train Epoch: 6 [30000/60000 (50%)]\tLoss: 149.897900\n",
            "Train Epoch: 6 [40000/60000 (67%)]\tLoss: 141.140029\n",
            "Train Epoch: 6 [50000/60000 (83%)]\tLoss: 143.337900\n",
            "====> Epoch: 6 Average loss: 141.1552\n",
            "====> Test set loss: 142.2713\n",
            "Train Epoch: 7 [0/60000 (0%)]\tLoss: 139.147100\n",
            "Train Epoch: 7 [10000/60000 (17%)]\tLoss: 131.029180\n",
            "Train Epoch: 7 [20000/60000 (33%)]\tLoss: 144.846885\n",
            "Train Epoch: 7 [30000/60000 (50%)]\tLoss: 148.512832\n",
            "Train Epoch: 7 [40000/60000 (67%)]\tLoss: 131.885742\n",
            "Train Epoch: 7 [50000/60000 (83%)]\tLoss: 134.724873\n",
            "====> Epoch: 7 Average loss: 140.6303\n",
            "====> Test set loss: 141.7605\n",
            "Train Epoch: 8 [0/60000 (0%)]\tLoss: 143.302402\n",
            "Train Epoch: 8 [10000/60000 (17%)]\tLoss: 139.964453\n",
            "Train Epoch: 8 [20000/60000 (33%)]\tLoss: 142.402881\n",
            "Train Epoch: 8 [30000/60000 (50%)]\tLoss: 135.187725\n",
            "Train Epoch: 8 [40000/60000 (67%)]\tLoss: 142.251377\n",
            "Train Epoch: 8 [50000/60000 (83%)]\tLoss: 138.784707\n",
            "====> Epoch: 8 Average loss: 140.4582\n",
            "====> Test set loss: 141.3782\n",
            "Train Epoch: 9 [0/60000 (0%)]\tLoss: 134.608506\n",
            "Train Epoch: 9 [10000/60000 (17%)]\tLoss: 137.091924\n",
            "Train Epoch: 9 [20000/60000 (33%)]\tLoss: 137.741240\n",
            "Train Epoch: 9 [30000/60000 (50%)]\tLoss: 147.232646\n",
            "Train Epoch: 9 [40000/60000 (67%)]\tLoss: 134.372617\n",
            "Train Epoch: 9 [50000/60000 (83%)]\tLoss: 137.179922\n",
            "====> Epoch: 9 Average loss: 139.9076\n",
            "====> Test set loss: 140.6600\n",
            "Train Epoch: 10 [0/60000 (0%)]\tLoss: 143.205469\n",
            "Train Epoch: 10 [10000/60000 (17%)]\tLoss: 141.894541\n",
            "Train Epoch: 10 [20000/60000 (33%)]\tLoss: 144.042500\n",
            "Train Epoch: 10 [30000/60000 (50%)]\tLoss: 140.943877\n",
            "Train Epoch: 10 [40000/60000 (67%)]\tLoss: 135.704385\n",
            "Train Epoch: 10 [50000/60000 (83%)]\tLoss: 143.081318\n",
            "====> Epoch: 10 Average loss: 139.7697\n",
            "====> Test set loss: 141.3867\n",
            "Train Epoch: 11 [0/60000 (0%)]\tLoss: 147.053457\n",
            "Train Epoch: 11 [10000/60000 (17%)]\tLoss: 134.049639\n",
            "Train Epoch: 11 [20000/60000 (33%)]\tLoss: 140.649971\n",
            "Train Epoch: 11 [30000/60000 (50%)]\tLoss: 140.044590\n",
            "Train Epoch: 11 [40000/60000 (67%)]\tLoss: 136.528018\n",
            "Train Epoch: 11 [50000/60000 (83%)]\tLoss: 138.712539\n",
            "====> Epoch: 11 Average loss: 139.6109\n",
            "====> Test set loss: 141.0575\n",
            "Train Epoch: 12 [0/60000 (0%)]\tLoss: 134.631846\n",
            "Train Epoch: 12 [10000/60000 (17%)]\tLoss: 138.290859\n",
            "Train Epoch: 12 [20000/60000 (33%)]\tLoss: 134.476836\n",
            "Train Epoch: 12 [30000/60000 (50%)]\tLoss: 134.589707\n",
            "Train Epoch: 12 [40000/60000 (67%)]\tLoss: 145.270645\n",
            "Train Epoch: 12 [50000/60000 (83%)]\tLoss: 141.285830\n",
            "====> Epoch: 12 Average loss: 139.2165\n",
            "====> Test set loss: 140.1097\n",
            "Train Epoch: 13 [0/60000 (0%)]\tLoss: 135.474316\n",
            "Train Epoch: 13 [10000/60000 (17%)]\tLoss: 138.683242\n",
            "Train Epoch: 13 [20000/60000 (33%)]\tLoss: 144.984824\n",
            "Train Epoch: 13 [30000/60000 (50%)]\tLoss: 144.745664\n",
            "Train Epoch: 13 [40000/60000 (67%)]\tLoss: 127.450859\n",
            "Train Epoch: 13 [50000/60000 (83%)]\tLoss: 139.001963\n",
            "====> Epoch: 13 Average loss: 139.0477\n",
            "====> Test set loss: 139.9360\n",
            "Train Epoch: 14 [0/60000 (0%)]\tLoss: 133.289824\n",
            "Train Epoch: 14 [10000/60000 (17%)]\tLoss: 140.968457\n",
            "Train Epoch: 14 [20000/60000 (33%)]\tLoss: 127.642969\n",
            "Train Epoch: 14 [30000/60000 (50%)]\tLoss: 138.670947\n",
            "Train Epoch: 14 [40000/60000 (67%)]\tLoss: 141.021631\n",
            "Train Epoch: 14 [50000/60000 (83%)]\tLoss: 136.386924\n",
            "====> Epoch: 14 Average loss: 138.6602\n",
            "====> Test set loss: 139.9367\n"
          ],
          "name": "stdout"
        }
      ]
    },
    {
      "cell_type": "code",
      "metadata": {
        "id": "-zr6YipfC8k1",
        "colab": {
          "base_uri": "https://localhost:8080/",
          "height": 468
        },
        "outputId": "7a17c2d3-a873-4b33-993f-90806edc9b0d"
      },
      "source": [
        "import torchvision\n",
        "import matplotlib.pyplot as plt\n",
        "import numpy as np\n",
        "\n",
        "def imshow(imgs):\n",
        "    imgs = torchvision.utils.make_grid(imgs)\n",
        "    npimgs = imgs.numpy()\n",
        "    plt.figure(figsize=(8,8))\n",
        "    plt.imshow(np.transpose(npimgs, (1,2,0)), cmap='Greys_r')\n",
        "    plt.xticks([])\n",
        "    plt.yticks([])\n",
        "    plt.show()\n",
        "\n",
        "\n",
        "with torch.no_grad():\n",
        "    z = torch.randn(64, 2).cuda()\n",
        "    sample = vae.decoder(z).cuda()\n",
        "    sample = sample.view(sample.size(0), 1, 28, 28).cpu()\n",
        "    imshow(sample)\n",
        "    "
      ],
      "execution_count": 13,
      "outputs": [
        {
          "output_type": "display_data",
          "data": {
            "image/png": "[encoded data removed]",
            "text/plain": [
              "<Figure size 576x576 with 1 Axes>"
            ]
          },
          "metadata": {
            "tags": []
          }
        }
      ]
    },
    {
      "cell_type": "code",
      "metadata": {
        "id": "MQglswqd-1Zv"
      },
      "source": [
        ""
      ],
      "execution_count": null,
      "outputs": []
    }
  ]
}